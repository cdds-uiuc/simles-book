{
 "cells": [
  {
   "cell_type": "code",
   "execution_count": 160,
   "id": "56e22926-ec02-4987-91f4-6ade10a2da00",
   "metadata": {},
   "outputs": [
    {
     "name": "stdin",
     "output_type": "stream",
     "text": [
      "Once deleted, variables cannot be recovered. Proceed (y/[n])?  y\n"
     ]
    }
   ],
   "source": [
    "%reset"
   ]
  },
  {
   "cell_type": "code",
   "execution_count": 208,
   "id": "1e43ede1-2dcd-4990-8283-5139fd70ea12",
   "metadata": {},
   "outputs": [
    {
     "ename": "ModuleNotFoundError",
     "evalue": "No module named 'stats'",
     "output_type": "error",
     "traceback": [
      "\u001b[0;31m---------------------------------------------------------------------------\u001b[0m",
      "\u001b[0;31mModuleNotFoundError\u001b[0m                       Traceback (most recent call last)",
      "\u001b[0;32m/var/folders/pr/3_264g5j1d15jdsjfgsqbdj80000gp/T/ipykernel_12861/2640055428.py\u001b[0m in \u001b[0;36m<module>\u001b[0;34m\u001b[0m\n\u001b[1;32m      3\u001b[0m \u001b[0;32mimport\u001b[0m \u001b[0mgzip\u001b[0m\u001b[0;34m\u001b[0m\u001b[0;34m\u001b[0m\u001b[0m\n\u001b[1;32m      4\u001b[0m \u001b[0;32mfrom\u001b[0m \u001b[0mmatplotlib\u001b[0m \u001b[0;32mimport\u001b[0m \u001b[0mpyplot\u001b[0m \u001b[0;32mas\u001b[0m \u001b[0mplt\u001b[0m\u001b[0;34m\u001b[0m\u001b[0;34m\u001b[0m\u001b[0m\n\u001b[0;32m----> 5\u001b[0;31m \u001b[0;32mimport\u001b[0m \u001b[0mstats\u001b[0m\u001b[0;34m\u001b[0m\u001b[0;34m\u001b[0m\u001b[0m\n\u001b[0m\u001b[1;32m      6\u001b[0m \u001b[0;31m#from sklearn.neural_network import MLPClassifier\u001b[0m\u001b[0;34m\u001b[0m\u001b[0;34m\u001b[0m\u001b[0;34m\u001b[0m\u001b[0m\n\u001b[1;32m      7\u001b[0m \u001b[0;31m#from sklearn.metrics import accuracy_score\u001b[0m\u001b[0;34m\u001b[0m\u001b[0;34m\u001b[0m\u001b[0;34m\u001b[0m\u001b[0m\n",
      "\u001b[0;31mModuleNotFoundError\u001b[0m: No module named 'stats'"
     ]
    }
   ],
   "source": [
    "import numpy as np\n",
    "import sklearn\n",
    "import gzip\n",
    "from matplotlib import pyplot as plt\n",
    "import stats"
   ]
  },
  {
   "cell_type": "markdown",
   "id": "f1b3b892-96ba-4ae4-8788-988e8103e30d",
   "metadata": {},
   "source": [
    "# Reading Data"
   ]
  },
  {
   "cell_type": "code",
   "execution_count": 195,
   "id": "ca1a0258-2e5d-4c40-9e0c-2a5a2d48bd69",
   "metadata": {},
   "outputs": [],
   "source": [
    "# Training data\n",
    "\n",
    "import gzip\n",
    "f = gzip.open('train-images-idx3-ubyte.gz','r')\n",
    "image_size = 28\n",
    "n_images_train = 50000\n",
    "\n",
    "import numpy as np\n",
    "f.read(16)\n",
    "buf = f.read(image_size * image_size * n_images_train)\n",
    "data_train = np.frombuffer(buf, dtype=np.uint8).astype(np.float32)\n",
    "data_train = data_train.reshape(n_images_train, image_size, image_size)\n",
    "\n",
    "f = gzip.open('train-labels-idx1-ubyte.gz','r')\n",
    "f.read(8)\n",
    "labels_train=np.zeros(n_images_train)\n",
    "for i in range(0,n_images_train):   \n",
    "    buf = f.read(1)\n",
    "    labels_train[i]=np.frombuffer(buf, dtype=np.uint8).astype(np.int64)[0]\n",
    "labels_train=labels_train.astype(int)    "
   ]
  },
  {
   "cell_type": "code",
   "execution_count": 196,
   "id": "f46675b1-ef27-4ed2-b08e-54f38d294d21",
   "metadata": {},
   "outputs": [],
   "source": [
    "# Test data\n",
    "import gzip\n",
    "f = gzip.open('t10k-images-idx3-ubyte.gz','r')\n",
    "image_size = 28\n",
    "n_images_test = 10000\n",
    "\n",
    "import numpy as np\n",
    "f.read(16)\n",
    "buf = f.read(image_size * image_size * n_images_test)\n",
    "data_test = np.frombuffer(buf, dtype=np.uint8).astype(np.float32)\n",
    "data_test = data_test.reshape(n_images_test, image_size, image_size)\n",
    "\n",
    "f = gzip.open('t10k-labels-idx1-ubyte.gz','r')\n",
    "f.read(8)\n",
    "labels_test=np.zeros(n_images_test)\n",
    "for i in range(0,n_images_test):   \n",
    "    buf = f.read(1)\n",
    "    labels_test[i]=np.frombuffer(buf, dtype=np.uint8).astype(np.int64)[0]\n",
    "labels_test=labels_test.astype(int)    "
   ]
  },
  {
   "cell_type": "markdown",
   "id": "21dfacad-02b1-4bfa-8d23-b05aeea01284",
   "metadata": {},
   "source": [
    "## Plot"
   ]
  },
  {
   "cell_type": "code",
   "execution_count": 213,
   "id": "10fac585-915d-4331-968a-f823d9991ab5",
   "metadata": {},
   "outputs": [
    {
     "data": {
      "image/png": "[encoded data removed]",
      "text/plain": [
       "<Figure size 432x288 with 1 Axes>"
      ]
     },
     "metadata": {
      "needs_background": "light"
     },
     "output_type": "display_data"
    }
   ],
   "source": [
    "ind=np.random.randint(0,n_images_train)\n",
    "\n",
    "plt.imshow(data_train[ind],cmap=plt.get_cmap('Greys'));\n",
    "plt.title(labels_train[ind]); "
   ]
  },
  {
   "cell_type": "code",
   "execution_count": 211,
   "id": "555abd43-4ae5-4ee5-ba96-3d3a5c644e0a",
   "metadata": {},
   "outputs": [
    {
     "name": "stdout",
     "output_type": "stream",
     "text": [
      "(50000, 784)\n",
      "(50000,)\n"
     ]
    }
   ],
   "source": [
    "X_train=data_train.squeeze().reshape(n_images_train,28*28)\n",
    "y_train=labels_train\n",
    "print(X_train.shape)\n",
    "print(y_train.shape)"
   ]
  },
  {
   "cell_type": "code",
   "execution_count": 206,
   "id": "293640de-56ab-4fd9-9ab2-d2afaa9d3395",
   "metadata": {},
   "outputs": [
    {
     "name": "stdout",
     "output_type": "stream",
     "text": [
      "(10000, 784)\n",
      "(10000,)\n"
     ]
    }
   ],
   "source": [
    "X_test=data_test.squeeze().reshape(n_images_test,28*28)\n",
    "y_test=labels_test\n",
    "print(X_test.shape)\n",
    "print(y_test.shape)"
   ]
  },
  {
   "cell_type": "code",
   "execution_count": 264,
   "id": "8ac1492d-dfa1-4bae-8d08-39f7070de3b3",
   "metadata": {},
   "outputs": [],
   "source": [
    "model=sklearn.neural_network.MLPClassifier(hidden_layer_sizes=[16],max_iter=1000,alpha=0.0001)\n",
    "mnist=model.fit(X_train,y_train)"
   ]
  },
  {
   "cell_type": "code",
   "execution_count": 265,
   "id": "af7ccbde-6c8a-4599-977e-f91b6b23c6df",
   "metadata": {},
   "outputs": [
    {
     "name": "stdout",
     "output_type": "stream",
     "text": [
      "8.78\n"
     ]
    }
   ],
   "source": [
    "y_hat=mnist.predict(X_test)\n",
    "score=sklearn.metrics.accuracy_score(mnist.predict(X_test),y_test)\n",
    "print((1-score)*100)"
   ]
  },
  {
   "cell_type": "code",
   "execution_count": 257,
   "id": "6ce43613-ab7e-48dd-9fbc-a5f749dbba35",
   "metadata": {},
   "outputs": [
    {
     "data": {
      "image/png": "[encoded data removed]",
      "text/plain": [
       "<Figure size 432x288 with 1 Axes>"
      ]
     },
     "metadata": {
      "needs_background": "light"
     },
     "output_type": "display_data"
    }
   ],
   "source": [
    "ind=np.random.randint(0,n_images_test)\n",
    "\n",
    "plt.imshow(data_test[ind],cmap=plt.get_cmap('Greys'));\n",
    "plt.title('truth= '+str(y_test[ind])+' prediction='+str(y_hat[ind])); "
   ]
  },
  {
   "cell_type": "code",
   "execution_count": 231,
   "id": "0cabcef9-a747-4f9e-bba3-82af90af341a",
   "metadata": {},
   "outputs": [
    {
     "data": {
      "text/plain": [
       "2.5699999999999945"
      ]
     },
     "execution_count": 231,
     "metadata": {},
     "output_type": "execute_result"
    }
   ],
   "source": []
  },
  {
   "cell_type": "code",
   "execution_count": null,
   "id": "1a71a10b-e449-4a2d-851e-9f60b9fe3b79",
   "metadata": {},
   "outputs": [],
   "source": []
  }
 ],
 "metadata": {
  "kernelspec": {
   "display_name": "Python 3 (ipykernel)",
   "language": "python",
   "name": "python3"
  },
  "language_info": {
   "codemirror_mode": {
    "name": "ipython",
    "version": 3
   },
   "file_extension": ".py",
   "mimetype": "text/x-python",
   "name": "python",
   "nbconvert_exporter": "python",
   "pygments_lexer": "ipython3",
   "version": "3.9.5"
  }
 },
 "nbformat": 4,
 "nbformat_minor": 5
}

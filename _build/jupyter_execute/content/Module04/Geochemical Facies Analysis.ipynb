{
 "cells": [
  {
   "cell_type": "code",
   "execution_count": 1,
   "metadata": {},
   "outputs": [
    {
     "name": "stdin",
     "output_type": "stream",
     "text": [
      "Once deleted, variables cannot be recovered. Proceed (y/[n])?  y\n"
     ]
    }
   ],
   "source": [
    "%reset"
   ]
  },
  {
   "cell_type": "markdown",
   "metadata": {
    "deletable": true,
    "editable": true
   },
   "source": [
    "# Geochemical Facies Analysis using Machine Learning\n",
    "\n",
    "**Brendon Hall, Enthought**\n",
    "\n",
    "This tutorial will demonstrate step-by-step how to build a practical geoscience machine learning workflow using Python and scikit-learn. The practice of extracting insights from large datasets has certainly caught mainstream attention in recent years. Software packages are emerging with multivariate and machine learning algorithms built in to workflows.  As this trend continues, it is important to understand how these algorithms work, know their strengths and limitations, and avoid treating them as a black box.   \n",
    "\n",
    "Python has become a popular programming language for scientific applications as it is straightforward to learn, has a large community of users and contributors that have created many open (and free) scientific libraries.  The `scikit-learn` (http://scikit-learn.org/stable/)[http://scikit-learn.org/stable/] library provides a state-of-the-art collection of machine learning tools for Python and contains many tools for data mining and analysis including classification, clustering, and regression algorithms. \n",
    "\n",
    "In this tutorial, we demonstrate how dimensionality reduction and unsupervised machine learning can be used to analyze X-ray fluorescence measurements of cuttings samples. Dimensionality reduction is the process of reducing the number of random variables under consideration by obtaining a smaller set of features that describe most of the variation within the dataset. Clustering is an unsupervised machine learning technique that learns a grouping from the data itself and doesn't require training data. The groups consist of samples with similar characteristics, which can be considered as distinct geochemical facies. This will be implemented using Python, the scikit-learn library (Pedregosa et al. 2011) and other popular Python data science tools.  These tools are open source and available online.  Enthought’s Canopy provides an easy to use interface to install these packages (and many more), as well as an integrated analysis and visualization environment.  It is available for free at [www.enthought.com/product/canopy](www.enthought.com/product/canopy/)."
   ]
  },
  {
   "cell_type": "code",
   "execution_count": 2,
   "metadata": {
    "collapsed": false,
    "deletable": true,
    "editable": true,
    "jupyter": {
     "outputs_hidden": false
    }
   },
   "outputs": [],
   "source": [
    "%matplotlib inline\n",
    "import pandas as pd\n",
    "import numpy as np\n",
    "\n",
    "# Machine learning libraries\n",
    "\n",
    "from sklearn.preprocessing import scale\n",
    "from sklearn.decomposition import FactorAnalysis\n",
    "from sklearn.cluster import KMeans\n",
    "\n",
    "# Visualization libraries\n",
    "import matplotlib.pylab as plt\n",
    "import seaborn as sns\n",
    "\n",
    "# import matplotlib as mpl\n",
    "# mpl.rcParams.update(mpl.rcParamsDefault)\n",
    "pd.set_option(\"max_r\",6)\n",
    "pd.set_option(\"display.max_columns\", 6)"
   ]
  },
  {
   "cell_type": "code",
   "execution_count": 3,
   "metadata": {
    "deletable": true,
    "editable": true,
    "tags": []
   },
   "outputs": [],
   "source": [
    "import matplotlib as mpl\n",
    "import matplotlib.colors as colors\n",
    "from mpl_toolkits.axes_grid1 import make_axes_locatable"
   ]
  },
  {
   "cell_type": "markdown",
   "metadata": {
    "deletable": true,
    "editable": true
   },
   "source": [
    "## XRF Cuttings Analysis\n",
    "\n",
    "X-ray fluorescence (XRF) is becoming a common wellsite cuttings analysis technique (Carr et al, 2014). Portable XRF provides rapid elemental composition measurements of cuttings as they are drilled. These devices measure the fluorescent X-rays emitted by a sample when illuminated by an energetic X-ray source. Elements in the sample will emit X-rays at specific wavelengths, and the spectrum of the emitted X-rays can be measured and used to quantify the amount of the corresponding elements present in the sample. Trends in element concentration can be used to infer sediment depositional environment, sources, and indicate conditions conducive to the preservation of organic material. XRF data can be used for geologic characterization, optimizing well placement, and providing additional guidance for geosteering.\n",
    "\n",
    "The data for this tutorial consists of XRF measurements of cuttings from the lateral section of an unconventional well. The measurements were made at approximately 10 m intervals. In this case, the raw data consists of 22 measurements for each sample. Each measurement gives the weight percentage of a chemical component. The data is read from a `csv` file into a dataframe using the [`pandas`](https://pandas.pydata.org/) library, which provides many convenient data structures and tools for data science. \n",
    "\n",
    "A dataframe is a 2-dimensional labeled data structure, where each row represents a different sample, and the columns are measurements on the sample.  The contents of the dataframe are shown in Table 1."
   ]
  },
  {
   "cell_type": "code",
   "execution_count": 4,
   "metadata": {
    "collapsed": false,
    "deletable": true,
    "editable": true,
    "jupyter": {
     "outputs_hidden": false
    }
   },
   "outputs": [
    {
     "data": {
      "text/html": [
       "<div>\n",
       "<style scoped>\n",
       "    .dataframe tbody tr th:only-of-type {\n",
       "        vertical-align: middle;\n",
       "    }\n",
       "\n",
       "    .dataframe tbody tr th {\n",
       "        vertical-align: top;\n",
       "    }\n",
       "\n",
       "    .dataframe thead th {\n",
       "        text-align: right;\n",
       "    }\n",
       "</style>\n",
       "<table border=\"1\" class=\"dataframe\">\n",
       "  <thead>\n",
       "    <tr style=\"text-align: right;\">\n",
       "      <th></th>\n",
       "      <th>Well Name</th>\n",
       "      <th>Depth</th>\n",
       "      <th>Quartz</th>\n",
       "      <th>...</th>\n",
       "      <th>SO3</th>\n",
       "      <th>Cl</th>\n",
       "      <th>Zr</th>\n",
       "    </tr>\n",
       "  </thead>\n",
       "  <tbody>\n",
       "    <tr>\n",
       "      <th>0</th>\n",
       "      <td>Well 1</td>\n",
       "      <td>3173.97</td>\n",
       "      <td>27.56</td>\n",
       "      <td>...</td>\n",
       "      <td>1.20</td>\n",
       "      <td>0.28</td>\n",
       "      <td>201.70</td>\n",
       "    </tr>\n",
       "    <tr>\n",
       "      <th>1</th>\n",
       "      <td>Well 1</td>\n",
       "      <td>3183.11</td>\n",
       "      <td>42.92</td>\n",
       "      <td>...</td>\n",
       "      <td>0.81</td>\n",
       "      <td>0.26</td>\n",
       "      <td>395.35</td>\n",
       "    </tr>\n",
       "    <tr>\n",
       "      <th>2</th>\n",
       "      <td>Well 1</td>\n",
       "      <td>3192.26</td>\n",
       "      <td>44.55</td>\n",
       "      <td>...</td>\n",
       "      <td>0.76</td>\n",
       "      <td>0.23</td>\n",
       "      <td>362.70</td>\n",
       "    </tr>\n",
       "    <tr>\n",
       "      <th>...</th>\n",
       "      <td>...</td>\n",
       "      <td>...</td>\n",
       "      <td>...</td>\n",
       "      <td>...</td>\n",
       "      <td>...</td>\n",
       "      <td>...</td>\n",
       "      <td>...</td>\n",
       "    </tr>\n",
       "    <tr>\n",
       "      <th>266</th>\n",
       "      <td>Well 1</td>\n",
       "      <td>6255.50</td>\n",
       "      <td>45.04</td>\n",
       "      <td>...</td>\n",
       "      <td>0.97</td>\n",
       "      <td>0.02</td>\n",
       "      <td>337.37</td>\n",
       "    </tr>\n",
       "    <tr>\n",
       "      <th>267</th>\n",
       "      <td>Well 1</td>\n",
       "      <td>6273.78</td>\n",
       "      <td>41.21</td>\n",
       "      <td>...</td>\n",
       "      <td>1.05</td>\n",
       "      <td>0.02</td>\n",
       "      <td>356.98</td>\n",
       "    </tr>\n",
       "    <tr>\n",
       "      <th>268</th>\n",
       "      <td>Well 1</td>\n",
       "      <td>6296.64</td>\n",
       "      <td>46.72</td>\n",
       "      <td>...</td>\n",
       "      <td>0.77</td>\n",
       "      <td>0.02</td>\n",
       "      <td>360.96</td>\n",
       "    </tr>\n",
       "  </tbody>\n",
       "</table>\n",
       "<p>269 rows × 24 columns</p>\n",
       "</div>"
      ],
      "text/plain": [
       "    Well Name    Depth  Quartz  ...   SO3    Cl      Zr\n",
       "0      Well 1  3173.97   27.56  ...  1.20  0.28  201.70\n",
       "1      Well 1  3183.11   42.92  ...  0.81  0.26  395.35\n",
       "2      Well 1  3192.26   44.55  ...  0.76  0.23  362.70\n",
       "..        ...      ...     ...  ...   ...   ...     ...\n",
       "266    Well 1  6255.50   45.04  ...  0.97  0.02  337.37\n",
       "267    Well 1  6273.78   41.21  ...  1.05  0.02  356.98\n",
       "268    Well 1  6296.64   46.72  ...  0.77  0.02  360.96\n",
       "\n",
       "[269 rows x 24 columns]"
      ]
     },
     "execution_count": 4,
     "metadata": {},
     "output_type": "execute_result"
    }
   ],
   "source": [
    "import pandas as pd\n",
    "geochem_df = pd.read_csv('XRF_dataset.csv')\n",
    "geochem_df"
   ]
  },
  {
   "cell_type": "markdown",
   "metadata": {
    "deletable": true,
    "editable": true
   },
   "source": [
    "## Feature Engineering\n",
    "\n",
    "In machine learning, the term *feature* is used to refer to the attributes of the objects being considered that can be used to describe, cluster, and classify them. In this case, the objects being studied are cuttings samples, and the features are the 22 XRF measurements. We can use *feature engineering* to augment this dataset. This refers to the process of using domain knowledge to create new features that help machine learning algorithms discriminate the data.\n",
    "\n",
    "In geochemistry, elements are used as proxies that give hints to the physical, chemical or biological events that were occurring during rock formation. Ratios of certain elements can indicate the relative strength of various effects. We will focus on three ratios: Si/Zr, Si/Al, and Zr/Al. The Si/Zr ratio is used to indicate relative proportions of biogenic silica and terrestrial detrital inputs and the Si/Al ratio is used as a proxy for biogenic silica to aluminous clay (Croudace and Rothwell, 2015). The Zr/Al ratio is a proxy for terrigenous input; chemical behavior of Zr suggests that this ratio can be used as a proxy for grain size (Calvert and Pederson, 2007).\n"
   ]
  },
  {
   "cell_type": "code",
   "execution_count": 5,
   "metadata": {
    "collapsed": false,
    "deletable": true,
    "editable": true,
    "jupyter": {
     "outputs_hidden": false
    }
   },
   "outputs": [],
   "source": [
    "geochem_df['Si/Zr'] = geochem_df['SiO2'] / geochem_df['Zr']\n",
    "geochem_df['Si/Al'] = geochem_df['SiO2'] / geochem_df['Al2O3']\n",
    "geochem_df['Zr/Al'] = geochem_df['Zr'] / geochem_df['Al2O3']"
   ]
  },
  {
   "cell_type": "code",
   "execution_count": 6,
   "metadata": {},
   "outputs": [
    {
     "data": {
      "text/plain": [
       "Index(['Well Name', 'Depth', 'Quartz', 'K-Feldspar', 'Plagioclase', 'Chlorite',\n",
       "       'IlliteSmectiteMica', 'Calcite', 'Ankerite/Dolomite', 'Pyrite',\n",
       "       'Organics', 'Al2O3', 'SiO2', 'TiO2', 'Fe2O3', 'MnO', 'MgO', 'CaO',\n",
       "       'Na2O', 'K2O', 'P2O5', 'SO3', 'Cl', 'Zr', 'Si/Zr', 'Si/Al', 'Zr/Al'],\n",
       "      dtype='object')"
      ]
     },
     "execution_count": 6,
     "metadata": {},
     "output_type": "execute_result"
    }
   ],
   "source": [
    "geochem_df.columns"
   ]
  },
  {
   "cell_type": "markdown",
   "metadata": {
    "deletable": true,
    "editable": true
   },
   "source": [
    "## Dimensionality Reduction\n",
    "\n",
    "Not surprisingly, multivariate datasets contain plenty of variables. This richness can be used to explain complex behaviour that can't be captured with a single observation. Multivariate methods allow us to consider changes in several observations simultaneously. With many observations, it is quite likely that the changes we observe are related to a smaller number of underlying causes. Dimensionality reduction is the process of using the correlations in the observed data to reveal a more parsimonious underlying model that explains the observed variation.\n",
    "\n",
    "Exploratory factor analysis (EFA) reduces the number of variables by identifying the underlying *latent factors* present in the dataset. These factors cannot be measured directly; they can be determined only by measuring manifest properties. For example, in the case of our geochemical dataset, a shaliness factor could be associated with high silicon dioxide, calcium and quartz readings.  EFA assumes that the observations are a linear combination of the underlying factors, plus some Gaussian noise (Hauck, 2014). A related dimensionality reduction technique is principal component analysis (PCA). PCA determines components that are weighted linear combinations of the observations and makes the assumption that the components themselves account for the all of the observed variance in the data; none of the variance is caused by error (or noise).  EFA assumes that there is variance due to error (Rietveld and Van Hout, 1993).\n",
    "\n",
    "Before applying EFA, the features should be rescaled by standardization. This involves rescaling each feature in the dataset to have zero mean and unit variance. This is necessary for many machine learning algorithms. Consider the case where measurements were made using different scales; one component varies between 10 and 300 [ppm] and another varies between 0.1 and 0.3 [wt%]. The variation in the former seems 1000 times greater than the latter if we don’t account for the scale. This will skew the factor analysis and the weights assigned to each factor. The preprocessing module in the scikit-learn library has tools for rescaling the dataset."
   ]
  },
  {
   "cell_type": "code",
   "execution_count": 9,
   "metadata": {
    "collapsed": false,
    "deletable": true,
    "editable": true,
    "jupyter": {
     "outputs_hidden": false
    }
   },
   "outputs": [],
   "source": [
    "from sklearn.preprocessing import scale\n",
    "data = geochem_df.iloc[:, 2:]\n",
    "data = scale(data)"
   ]
  },
  {
   "cell_type": "markdown",
   "metadata": {
    "deletable": true,
    "editable": true
   },
   "source": [
    "EFA requires that the number of factors to be extracted is specified *a priori*. Often, it is not immediately obvious how many factors should be specified. Many authors have proposed rules over the years (e.g., Preacher et al, 2013). One simple approach (known as the Kaiser criterion) involves looking at eigenvalues of the data’s covariance matrix and counting the number above a threshold value (typically 1.0).   The following code snippet will compute and plot the eigenvalues.  "
   ]
  },
  {
   "cell_type": "code",
   "execution_count": null,
   "metadata": {},
   "outputs": [],
   "source": [
    "f"
   ]
  },
  {
   "cell_type": "code",
   "execution_count": null,
   "metadata": {},
   "outputs": [],
   "source": []
  },
  {
   "cell_type": "code",
   "execution_count": null,
   "metadata": {},
   "outputs": [],
   "source": [
    "np.shape(data)"
   ]
  },
  {
   "cell_type": "code",
   "execution_count": 7,
   "metadata": {
    "collapsed": false,
    "deletable": true,
    "editable": true,
    "jupyter": {
     "outputs_hidden": false
    }
   },
   "outputs": [
    {
     "ename": "NameError",
     "evalue": "name 'data' is not defined",
     "output_type": "error",
     "traceback": [
      "\u001b[0;31m---------------------------------------------------------------------------\u001b[0m",
      "\u001b[0;31mNameError\u001b[0m                                 Traceback (most recent call last)",
      "\u001b[0;32m/var/folders/pr/3_264g5j1d15jdsjfgsqbdj80000gp/T/ipykernel_11175/460893626.py\u001b[0m in \u001b[0;36m<module>\u001b[0;34m\u001b[0m\n\u001b[1;32m      1\u001b[0m \u001b[0mfig\u001b[0m \u001b[0;34m=\u001b[0m \u001b[0mplt\u001b[0m\u001b[0;34m.\u001b[0m\u001b[0mfigure\u001b[0m\u001b[0;34m(\u001b[0m\u001b[0mfigsize\u001b[0m\u001b[0;34m=\u001b[0m\u001b[0;34m(\u001b[0m\u001b[0;36m10\u001b[0m\u001b[0;34m,\u001b[0m\u001b[0;36m6\u001b[0m\u001b[0;34m)\u001b[0m\u001b[0;34m)\u001b[0m\u001b[0;34m\u001b[0m\u001b[0;34m\u001b[0m\u001b[0m\n\u001b[0;32m----> 2\u001b[0;31m \u001b[0mcovar_matrix\u001b[0m \u001b[0;34m=\u001b[0m \u001b[0mnp\u001b[0m\u001b[0;34m.\u001b[0m\u001b[0mcov\u001b[0m\u001b[0;34m(\u001b[0m\u001b[0mdata\u001b[0m\u001b[0;34m,\u001b[0m \u001b[0mrowvar\u001b[0m\u001b[0;34m=\u001b[0m\u001b[0;32mFalse\u001b[0m\u001b[0;34m)\u001b[0m\u001b[0;34m\u001b[0m\u001b[0;34m\u001b[0m\u001b[0m\n\u001b[0m\u001b[1;32m      3\u001b[0m \u001b[0meigenvalues\u001b[0m \u001b[0;34m=\u001b[0m \u001b[0mnp\u001b[0m\u001b[0;34m.\u001b[0m\u001b[0mlinalg\u001b[0m\u001b[0;34m.\u001b[0m\u001b[0meig\u001b[0m\u001b[0;34m(\u001b[0m\u001b[0mcovar_matrix\u001b[0m\u001b[0;34m)\u001b[0m\u001b[0;34m[\u001b[0m\u001b[0;36m0\u001b[0m\u001b[0;34m]\u001b[0m\u001b[0;34m\u001b[0m\u001b[0;34m\u001b[0m\u001b[0m\n\u001b[1;32m      4\u001b[0m \u001b[0mplt\u001b[0m\u001b[0;34m.\u001b[0m\u001b[0mplot\u001b[0m\u001b[0;34m(\u001b[0m\u001b[0meigenvalues\u001b[0m\u001b[0;34m,\u001b[0m \u001b[0;34m'o-'\u001b[0m\u001b[0;34m)\u001b[0m\u001b[0;34m\u001b[0m\u001b[0;34m\u001b[0m\u001b[0m\n\u001b[1;32m      5\u001b[0m \u001b[0mplt\u001b[0m\u001b[0;34m.\u001b[0m\u001b[0maxhline\u001b[0m\u001b[0;34m(\u001b[0m\u001b[0my\u001b[0m\u001b[0;34m=\u001b[0m\u001b[0;36m1.0\u001b[0m\u001b[0;34m,\u001b[0m \u001b[0mcolor\u001b[0m\u001b[0;34m=\u001b[0m\u001b[0;34m'r'\u001b[0m\u001b[0;34m,\u001b[0m \u001b[0mlinestyle\u001b[0m\u001b[0;34m=\u001b[0m\u001b[0;34m'--'\u001b[0m\u001b[0;34m)\u001b[0m\u001b[0;34m\u001b[0m\u001b[0;34m\u001b[0m\u001b[0m\n",
      "\u001b[0;31mNameError\u001b[0m: name 'data' is not defined"
     ]
    },
    {
     "data": {
      "text/plain": [
       "<Figure size 720x432 with 0 Axes>"
      ]
     },
     "metadata": {},
     "output_type": "display_data"
    }
   ],
   "source": [
    "fig = plt.figure(figsize=(10,6))\n",
    "covar_matrix = np.cov(data, rowvar=False)\n",
    "eigenvalues = np.linalg.eig(covar_matrix)[0]\n",
    "plt.plot(eigenvalues, 'o-')\n",
    "plt.axhline(y=1.0, color='r', linestyle='--')\n",
    "plt.tick_params(labelsize=18)\n",
    "plt.xlabel('Eigenvalue Index', fontsize=24)\n",
    "plt.ylabel('Magnitude', fontsize=24)\n",
    "# fig.savefig('images/Figure_1_eigs.tif', dpi=300, bbox_inches='tight')\n",
    "# fig.savefig('images/Figure_1_eigs.png', dpi=300, bbox_inches='tight')"
   ]
  },
  {
   "cell_type": "code",
   "execution_count": null,
   "metadata": {},
   "outputs": [],
   "source": []
  },
  {
   "cell_type": "markdown",
   "metadata": {
    "deletable": true,
    "editable": true
   },
   "source": [
    "The `scikit-learn` library contains a factor analysis module that can be used to extract the 6 factors. This is done by creating a factor analysis model and fitting the model to the data."
   ]
  },
  {
   "cell_type": "code",
   "execution_count": null,
   "metadata": {
    "collapsed": false,
    "deletable": true,
    "editable": true,
    "jupyter": {
     "outputs_hidden": false
    }
   },
   "outputs": [],
   "source": [
    "fa_model = FactorAnalysis(n_components = 6)\n",
    "fa_model.fit(data)\n",
    "factor_data = fa_model.transform(data)"
   ]
  },
  {
   "cell_type": "code",
   "execution_count": 10,
   "metadata": {},
   "outputs": [
    {
     "data": {
      "text/plain": [
       "[<matplotlib.lines.Line2D at 0x7fb37046aaf0>]"
      ]
     },
     "execution_count": 10,
     "metadata": {},
     "output_type": "execute_result"
    },
    {
     "data": {
      "image/png": "[encoded data removed]",
      "text/plain": [
       "<Figure size 432x288 with 1 Axes>"
      ]
     },
     "metadata": {
      "filenames": {
       "image/png": "/Users/cristi/Dropbox/work/teaching/SIMLES/simles-book/_build/jupyter_execute/content/Module04/Geochemical Facies Analysis_19_1.png"
      },
      "needs_background": "light"
     },
     "output_type": "display_data"
    }
   ],
   "source": [
    "from sklearn.decomposition import PCA\n",
    "pca_model = PCA(n_components=6)\n",
    "pca_model.fit(data)\n",
    "pca_data=pca_model.transform(data)\n",
    "plt.plot(pca_model.explained_variance_ratio_,'.-')"
   ]
  },
  {
   "cell_type": "code",
   "execution_count": null,
   "metadata": {
    "collapsed": false,
    "deletable": true,
    "editable": true,
    "jupyter": {
     "outputs_hidden": false
    }
   },
   "outputs": [],
   "source": [
    "# create a dataframe consisting of the factor values for each data point\n",
    "factor_df = pd.DataFrame(factor_data, columns=['Comp {}'.format(i) for i in range(0,3)])\n",
    "factor_df['Well Name'] = geochem_df['Well Name']\n",
    "factor_df['Depth'] = geochem_df['Depth']\n",
    "\n",
    "# create a dataframe with the factor loadings associated with each observation\n",
    "loading = fa_model.components_\n",
    "component_names = geochem_df.columns.values[2:]\n",
    "loading_df =  pd.DataFrame(loading,\n",
    "                           columns=component_names)"
   ]
  },
  {
   "cell_type": "code",
   "execution_count": 11,
   "metadata": {},
   "outputs": [],
   "source": [
    "# create a dataframe consisting of the factor values for each data point\n",
    "pca_df = pd.DataFrame(pca_data, columns=['Comp {}'.format(i) for i in range(0,6)])\n",
    "pca_df['Well Name'] = geochem_df['Well Name']\n",
    "pca_df['Depth'] = geochem_df['Depth']\n",
    "\n",
    "# create a dataframe with the factor loadings associated with each observation\n",
    "loading = pca_model.components_\n",
    "component_names = geochem_df.columns.values[2:]\n",
    "loading_df =  pd.DataFrame(loading,columns=component_names)"
   ]
  },
  {
   "cell_type": "code",
   "execution_count": null,
   "metadata": {},
   "outputs": [],
   "source": []
  },
  {
   "cell_type": "markdown",
   "metadata": {
    "deletable": true,
    "editable": true
   },
   "source": [
    "### Interpreting the factors\n",
    "\n",
    "The factors can now be examined to interpret the underlying properties they represent. The *factor loadings* describe the relationship of each measurement to the underlying factor.   Each loading score represents the correlation between the factor and the observed variables.  The loading scores vary between -1 and 1. A positive value means that a measurement is associated with the presence of an underlying factor.  A negative value suggests that a measurement indicates the absence of a factor.   The factor loadings can be easily extracted from the factor model, and plotted to show the loadings associated with a given factor.\n",
    "\n",
    "Figure 2 (below) shows the factor loadings associated with the fifth factor.  In this case, the factor is associated with high values of plagioclase, illite/smectite/mica, pyrite, and organic material, and the absence of calcite and MgO.  We could interpret this factor as the organic-rich clay content. Similar interpretations can be given to the other factors by observing their loading scores."
   ]
  },
  {
   "cell_type": "code",
   "execution_count": null,
   "metadata": {},
   "outputs": [],
   "source": [
    "factor_df\n",
    "factor_df['Comp 0']"
   ]
  },
  {
   "cell_type": "code",
   "execution_count": null,
   "metadata": {},
   "outputs": [],
   "source": [
    "fig = plt.figure()\n",
    "ax = plt.axes(projection='3d')\n",
    "ax.scatter3D(_df['Comp 0'],factor_df['Comp 1'],factor_df['Comp 2'])"
   ]
  },
  {
   "cell_type": "code",
   "execution_count": 12,
   "metadata": {
    "collapsed": false,
    "deletable": true,
    "editable": true,
    "jupyter": {
     "outputs_hidden": false
    }
   },
   "outputs": [],
   "source": [
    "for factor_id in range(0, loading_df.shape[0]):\n",
    "\n",
    "    # just plot the fourth factor, remove the loop to plot all\n",
    "    if factor_id == 6:\n",
    "        fig = plt.figure(figsize=(10,4))\n",
    "        #plt.title('Factor {}'.format(factor_id))\n",
    "        plt.ylabel('Factor loadings', fontsize=24)\n",
    "        loading_df.iloc[factor_id].plot(kind='bar')\n",
    "        plt.tick_params(labelsize=20)\n",
    "        # fig.savefig('images/Figure_2_Factor_interp.png', dpi=300, bbox_inches='tight')\n",
    "        # fig.savefig('images/Figure_2_Factor_interp.tif', dpi=300, bbox_inches='tight')\n",
    "        break\n",
    "    else:\n",
    "        continue"
   ]
  },
  {
   "cell_type": "markdown",
   "metadata": {
    "deletable": true,
    "editable": true
   },
   "source": [
    "## Clustering\n",
    "   \n",
    "The factor analysis has reduced the initial collection of 25 XRF features to a set of 6 underlying factors. A logical next step would be using these factors to group the cuttings samples by their common geochemical traits.  These groups can be interpreted to represent *geochemical facies*. Cluster analysis is a suitable approach for assigning a common facies label to similar samples. Clustering attempts to group samples so that those in the same group (or cluster) are more similar than those in other clusters. Cluster analysis is one class of techniques that fall under the category of *unsupervised* machine learning. These approaches are used to infer structure from the data itself, without the use of labeled training data to guide the model. \n",
    "\n",
    "The [K-Means](http://scikit-learn.org/stable/modules/generated/sklearn.cluster.KMeans.html#sklearn.cluster.KMeans)  algorithm clusters data by trying to separate samples into $k$ groups of equal variance. The algorithm locates the optimal cluster centroids by minimizing the distance between each point in a cluster and the closest centroid. The algorithm has three steps. It initializes by picking locations for the initial $k$ centroids (often random samples from the dataset). Next, each sample is assigned to one of the $k$ groups according to the nearest centroid. New centroids are then calculated by finding the mean values of each sample in each group. This is repeated until the difference between subsequent centroid positions falls below a given threshold.\n",
    "\n",
    "Similar to EFA, K-Means requires that the number of clusters is specified before running the algorithm. There are a number of approaches to finding the optimal number of clusters. The goal is to choose the minimum number of clusters that accurately partition the dataset. These range from the relatively simple 'elbow method' to more rigorous techniques involving the Bayesian information criterion and optimizing the Gaussian nature of each cluster (Hamerly and Elkan, 2003). The following code demonstrates the 'elbow method' applied to this dataset. The sum of the squared distance of each point to the nearest cluster centroid (called *inertia* in `scikit-learn`) is plotted for an increasing number of clusters. As the number of clusters is increased and better fit the data, error is decreased. The elbow of the curve represents the point of diminishing returns where increasing the number of clusters does not reduce the error appreciably. Figure 3 (below) suggests that about 6 clusters would be adequate for this dataset."
   ]
  },
  {
   "cell_type": "code",
   "execution_count": null,
   "metadata": {},
   "outputs": [],
   "source": []
  },
  {
   "cell_type": "code",
   "execution_count": 13,
   "metadata": {
    "collapsed": false,
    "deletable": true,
    "editable": true,
    "jupyter": {
     "outputs_hidden": false
    }
   },
   "outputs": [
    {
     "data": {
      "image/png": "[encoded data removed]",
      "text/plain": [
       "<Figure size 720x360 with 1 Axes>"
      ]
     },
     "metadata": {
      "filenames": {
       "image/png": "/Users/cristi/Dropbox/work/teaching/SIMLES/simles-book/_build/jupyter_execute/content/Module04/Geochemical Facies Analysis_29_0.png"
      },
      "needs_background": "light"
     },
     "output_type": "display_data"
    }
   ],
   "source": [
    "inertias = []\n",
    "means = []\n",
    "maxK = 30\n",
    "for k in range(1, maxK):\n",
    "    kmeans = KMeans(n_clusters=k, random_state=0).fit(pca_data)\n",
    "    means.append(k)\n",
    "    inertias.append(kmeans.inertia_)\n",
    "\n",
    "fig = plt.figure(figsize=(10,5))\n",
    "plt.plot(means, inertias, 'o-')\n",
    "plt.xlabel('# of clusters', fontsize=24)\n",
    "plt.ylabel('Sum of squared errors', fontsize=24)\n",
    "plt.tick_params(labelsize=18)\n",
    "# fig.savefig('images/Figure_3_k_means.tif', dpi=300, bbox_inches='tight')\n",
    "# fig.savefig('images/Figure_3_k_means.png', dpi=300, bbox_inches='tight')"
   ]
  },
  {
   "cell_type": "markdown",
   "metadata": {
    "deletable": true,
    "editable": true
   },
   "source": [
    "The K-means algorithm in `scikit-learn` is used to cluster the reduced dataset.  Similar to the factor analysis, this is done by creating a K-means model and fitting the factor dataset."
   ]
  },
  {
   "cell_type": "code",
   "execution_count": 14,
   "metadata": {
    "collapsed": false,
    "deletable": true,
    "editable": true,
    "jupyter": {
     "outputs_hidden": false
    }
   },
   "outputs": [
    {
     "ename": "NameError",
     "evalue": "name 'factor_data' is not defined",
     "output_type": "error",
     "traceback": [
      "\u001b[0;31m---------------------------------------------------------------------------\u001b[0m",
      "\u001b[0;31mNameError\u001b[0m                                 Traceback (most recent call last)",
      "\u001b[0;32m/var/folders/pr/3_264g5j1d15jdsjfgsqbdj80000gp/T/ipykernel_11175/1267784578.py\u001b[0m in \u001b[0;36m<module>\u001b[0;34m\u001b[0m\n\u001b[1;32m      1\u001b[0m \u001b[0mkmeans\u001b[0m \u001b[0;34m=\u001b[0m \u001b[0mKMeans\u001b[0m\u001b[0;34m(\u001b[0m\u001b[0mn_clusters\u001b[0m\u001b[0;34m=\u001b[0m\u001b[0;36m6\u001b[0m\u001b[0;34m,\u001b[0m \u001b[0mrandom_state\u001b[0m\u001b[0;34m=\u001b[0m\u001b[0;36m0\u001b[0m\u001b[0;34m)\u001b[0m\u001b[0;34m\u001b[0m\u001b[0;34m\u001b[0m\u001b[0m\n\u001b[0;32m----> 2\u001b[0;31m \u001b[0mkmeans\u001b[0m\u001b[0;34m.\u001b[0m\u001b[0mfit\u001b[0m\u001b[0;34m(\u001b[0m\u001b[0mfactor_data\u001b[0m\u001b[0;34m)\u001b[0m\u001b[0;34m\u001b[0m\u001b[0;34m\u001b[0m\u001b[0m\n\u001b[0m\u001b[1;32m      3\u001b[0m \u001b[0;34m\u001b[0m\u001b[0m\n\u001b[1;32m      4\u001b[0m \u001b[0;31m# add the cluster ids to the dataset\u001b[0m\u001b[0;34m\u001b[0m\u001b[0;34m\u001b[0m\u001b[0;34m\u001b[0m\u001b[0m\n\u001b[1;32m      5\u001b[0m \u001b[0mfactor_df\u001b[0m\u001b[0;34m[\u001b[0m\u001b[0;34m'Cluster'\u001b[0m\u001b[0;34m]\u001b[0m \u001b[0;34m=\u001b[0m \u001b[0mkmeans\u001b[0m\u001b[0;34m.\u001b[0m\u001b[0mlabels_\u001b[0m \u001b[0;34m+\u001b[0m \u001b[0;36m1\u001b[0m\u001b[0;34m\u001b[0m\u001b[0;34m\u001b[0m\u001b[0m\n",
      "\u001b[0;31mNameError\u001b[0m: name 'factor_data' is not defined"
     ]
    }
   ],
   "source": [
    "kmeans = KMeans(n_clusters=6, random_state=0)\n",
    "kmeans.fit(factor_data)\n",
    "\n",
    "# add the cluster ids to the dataset\n",
    "factor_df['Cluster'] = kmeans.labels_ + 1\n",
    "geochem_df['Cluster'] = kmeans.labels_"
   ]
  },
  {
   "cell_type": "markdown",
   "metadata": {
    "deletable": true,
    "editable": true
   },
   "source": [
    "### Interpreting the clusters\n",
    "\n",
    "Each sample in the dataset has now been assigned to one of six clusters.  If we are going  to interpret these clusters as geochemical facies, it is useful to inspect the to inspect the geochemical signature of each cluster. Figure 4 (below) contains a series of box plots that show the distribution of a small subset of measurements across each of the 6 clusters.  Box plots depict 5 descriptive statistics; the horizontal lines of the colored rectangle show the first quartile, median and third quartile.  The arms show the minimum and maximum.  Outliers are shown as black diamonds.  This plot is generated using the statistical visualization library `seaborn` [https://seaborn.pydata.org/](https://seaborn.pydata.org/).\n",
    "\n",
    "Figure 4A indicates that Cluster 2 is characterized by a relatively high (and variable) Si/Zr ratio.  Cluster 4 has a high Zr/Al ratio (4B, 4C) and cluster 3 has a high MgO signature.  This can be done for each measurement to build up a geologic interpretation of each cluster.  "
   ]
  },
  {
   "cell_type": "code",
   "execution_count": null,
   "metadata": {
    "collapsed": false,
    "deletable": true,
    "editable": true,
    "jupyter": {
     "outputs_hidden": false
    }
   },
   "outputs": [],
   "source": [
    "facies_colors = sns.color_palette(\"Set2\", 6)\n",
    "\n",
    "fig, ax = plt.subplots(2,2, figsize=(12,8), sharex=True)\n",
    "b= sns.boxplot(x='Cluster', y='IlliteSmectiteMica', linewidth=0.5,\n",
    "            data=geochem_df, ax=ax[0,0],\n",
    "            palette=facies_colors)\n",
    "b.set_title(\"A\",fontsize=24)\n",
    "b.set_xlabel(\"\")\n",
    "b.set_ylabel(\"Illite/Smectite/Mica [Wt%]\",fontsize=24)\n",
    "b.tick_params(labelsize=14)\n",
    "\n",
    "b= sns.boxplot(x='Cluster', y='Organics', linewidth=0.5,\n",
    "            data=geochem_df, ax=ax[0,1],\n",
    "            palette=facies_colors)\n",
    "b.set_title(\"B\",fontsize=24)\n",
    "b.set_xlabel(\"\")\n",
    "b.set_ylabel(\"Organics [Wt%]\",fontsize=24)\n",
    "b.tick_params(labelsize=18)\n",
    "\n",
    "b=sns.boxplot(x='Cluster', y='Calcite', linewidth=0.5,\n",
    "            data=geochem_df, ax=ax[1,0],\n",
    "            palette=facies_colors)\n",
    "b.set_title(\"C\",fontsize=24)\n",
    "b.set_xlabel(\"Cluster Index\",fontsize=24)\n",
    "b.set_ylabel(\"Calcite [Wt%]\",fontsize=24)\n",
    "b.tick_params(labelsize=14)\n",
    "\n",
    "b=sns.boxplot(x='Cluster', y='MgO', linewidth=0.5,\n",
    "            data=geochem_df, ax=ax[1,1],\n",
    "            palette=facies_colors)\n",
    "b.set_title(\"D\",fontsize=24)\n",
    "b.set_xlabel(\"Cluster Index\",fontsize=24)\n",
    "b.set_ylabel(\"MgO [Wt%]\",fontsize=24)\n",
    "b.tick_params(labelsize=18)\n",
    "\n",
    "plt.tight_layout()\n",
    "# fig.savefig('images/Figure_4_Cluster_fingerprint.png', dpi=300, bbox_inches='tight')\n",
    "# fig.savefig('images/Figure_4_Cluster_fingerprint.tif', dpi=300, bbox_inches='tight')"
   ]
  },
  {
   "cell_type": "code",
   "execution_count": null,
   "metadata": {
    "deletable": true,
    "editable": true,
    "tags": []
   },
   "outputs": [],
   "source": [
    "def make_facies_log_plot(logs, facies_colors, label):\n",
    "    # reset to original matplotlib style\n",
    "    # seaborn doesn't look as good for this\n",
    "    import matplotlib as mpl\n",
    "    mpl.rcParams.update(mpl.rcParamsDefault)\n",
    "    \n",
    "    #make sure logs are sorted by depth \n",
    "    logs = logs.sort_values(by='Depth')\n",
    "    cmap_facies = colors.ListedColormap(\n",
    "            facies_colors[0:len(facies_colors)], 'indexed')\n",
    "    \n",
    "    ztop=logs.Depth.min(); zbot=logs.Depth.max()\n",
    "    \n",
    "    cluster=np.repeat(np.expand_dims(logs[label].values,1), 100, 1)\n",
    "    \n",
    "    f, ax = plt.subplots(nrows=1, ncols=5, figsize=(8, 10))\n",
    "    ax[0].plot(logs['IlliteSmectiteMica'], logs.Depth, '-g')\n",
    "    ax[1].plot(logs['Organics'], logs.Depth, '-')\n",
    "    ax[2].plot(logs['Calcite'], logs.Depth, '-', color='0.5')\n",
    "    ax[3].plot(logs['MgO'], logs.Depth, '-', color='r')\n",
    "    im=ax[4].imshow(cluster, interpolation='none', aspect='auto',\n",
    "                    cmap=cmap_facies,vmin=0,vmax=6)\n",
    "    \n",
    "    divider = make_axes_locatable(ax[4])\n",
    "    cax = divider.append_axes(\"right\", size=\"20%\", pad=0.05)\n",
    "    cbar=plt.colorbar(im, cax=cax)\n",
    "    cbar.set_label((10*' ').join(['Clust 1', 'Clust 2', 'Clust 3', \n",
    "                                'Clust 4', 'Clust 5', 'Clust 6']), fontsize=14)\n",
    "    cbar.set_ticks(range(0,1)); cbar.set_ticklabels('')\n",
    "    \n",
    "    \n",
    "    for i in range(len(ax)-1):\n",
    "        ax[i].set_ylim(ztop,zbot)\n",
    "        ax[i].invert_yaxis()\n",
    "        ax[i].grid()\n",
    "        ax[i].locator_params(axis='x', nbins=3)\n",
    "    \n",
    "    ax[0].set_xlabel('Clay Minerals', fontsize=16)\n",
    "    ax[0].set_xlim(logs['IlliteSmectiteMica'].min(),logs['IlliteSmectiteMica'].max())\n",
    "    ax[0].set_ylabel('MD [m]', fontsize=24)\n",
    "    ax[0].tick_params(labelsize=12)\n",
    "    ax[0].grid(b=False)\n",
    "    ax[1].set_xlabel(\"Organics\", fontsize=16)\n",
    "    ax[1].set_xlim(logs['Organics'].min(),logs['Organics'].max())\n",
    "    ax[1].grid(b=False)\n",
    "    ax[1].tick_params(labelsize=12)\n",
    "    ax[2].set_xlabel(\"Calcite\", fontsize=16)\n",
    "    ax[2].set_xlim(logs['Calcite'].min(),logs['Calcite'].max())\n",
    "    ax[2].grid(b=False)\n",
    "    ax[2].tick_params(labelsize=12)\n",
    "    ax[3].set_xlabel(\"MgO\", fontsize=16)\n",
    "    ax[3].set_xlim(logs['MgO'].min(),logs['MgO'].max())\n",
    "    ax[3].grid(b=False)\n",
    "    ax[3].tick_params(labelsize=12)\n",
    "    ax[4].set_xlabel('Facies', fontsize=16)\n",
    "    \n",
    "    ax[1].set_yticklabels([]); ax[2].set_yticklabels([]); ax[3].set_yticklabels([])\n",
    "    ax[4].set_yticklabels([]);\n",
    "    ax[4].set_xticklabels([])\n",
    "    \n",
    "    #f.suptitle(logs.iloc[0]['Well Name'], fontsize=14,y=0.9)\n",
    "    return f"
   ]
  },
  {
   "cell_type": "markdown",
   "metadata": {
    "deletable": true,
    "editable": true
   },
   "source": [
    "## Visualizing results\n",
    "\n",
    "Now we have organized every cutting measurement into 6 geochemical facies (clusters), we can visualize the classification in a log plot to better understand how the facies transition to one another in the context of a well.  The right column of Figure 5 shows the clusters assigned to each sample using a unique color, indexed by measured depth (MD).  The other columns show 4 of the corresponding geochemical measurements.  Similar plots could be made for the other wells in the dataset and used to identify common intervals."
   ]
  },
  {
   "cell_type": "code",
   "execution_count": null,
   "metadata": {},
   "outputs": [],
   "source": [
    "f = make_facies_log_plot(geochem_df,\n",
    "        facies_colors, 'Cluster')\n",
    "# f.savefig('images/Figure_5_logs.png', dpi=300, bbox_inches='tight')\n",
    "# f.savefig('images/Figure_5_logs.tif', dpi=300, bbox_inches='tight')"
   ]
  },
  {
   "cell_type": "code",
   "execution_count": null,
   "metadata": {
    "collapsed": false,
    "deletable": true,
    "editable": true,
    "jupyter": {
     "outputs_hidden": false
    }
   },
   "outputs": [],
   "source": [
    "f = make_facies_log_plot(geochem_df,\n",
    "        facies_colors, 'Cluster')\n",
    "# f.savefig('images/Figure_5_logs.png', dpi=300, bbox_inches='tight')\n",
    "# f.savefig('images/Figure_5_logs.tif', dpi=300, bbox_inches='tight')"
   ]
  },
  {
   "cell_type": "markdown",
   "metadata": {
    "deletable": true,
    "editable": true
   },
   "source": [
    "One application of this analysis is providing data that can be used for geosteering horizontal wells. This is particularly useful in areas that lack a distinctive gamma ray signature. Wellsite classification of cuttings sample could be used to interpret a well’s path through an existing chemo-stratigraphic framework.  To build a visualization of this framework, it is helpful to plot the geochemical facies along the well path. Figure 6 (below) shows the trajectory (TVD vs. MD) of the well, with the different facies colored using the same scheme as Figure 5. This can be used to build a pseudo-vertical profile and help identify specific zones as the well porpoises up and down along its length."
   ]
  },
  {
   "cell_type": "code",
   "execution_count": null,
   "metadata": {
    "collapsed": false,
    "deletable": true,
    "editable": true,
    "jupyter": {
     "outputs_hidden": false
    }
   },
   "outputs": [],
   "source": [
    "filename = 'well_trajectory.csv'\n",
    "trajectory_df = pd.read_csv(filename)\n",
    "\n",
    "# combine the stat facies curve \n",
    "well1_df = geochem_df[geochem_df['Well Name'] == 'Well 1']"
   ]
  },
  {
   "cell_type": "code",
   "execution_count": null,
   "metadata": {
    "collapsed": false,
    "deletable": true,
    "editable": true,
    "jupyter": {
     "outputs_hidden": false
    }
   },
   "outputs": [],
   "source": [
    "from scipy.interpolate import interp1d, interp2d, RectBivariateSpline\n",
    "x = trajectory_df.MD.values\n",
    "y = trajectory_df.TVD.values\n",
    "f = interp1d(x,y)\n",
    "\n",
    "well1_df = well1_df.assign(TVD = f(well1_df.Depth.values))"
   ]
  },
  {
   "cell_type": "code",
   "execution_count": null,
   "metadata": {
    "collapsed": false,
    "deletable": true,
    "editable": true,
    "jupyter": {
     "outputs_hidden": false
    }
   },
   "outputs": [],
   "source": [
    "last_row = len(well1_df)\n",
    "fig = plt.figure(figsize=(12,4))\n",
    "\n",
    "x = []\n",
    "y = []\n",
    "for index, row in well1_df.iterrows():\n",
    "    if index == last_row-1:\n",
    "        break\n",
    "    next_row = well1_df.iloc[index+1]\n",
    "    current_facies = row['Cluster']\n",
    "    next_facies = well1_df.iloc[index+1, 'Cluster']\n",
    "    #print('current: %d, next: %d\\n'%(current_facies, next_facies))\n",
    "    x.append(row.Depth)\n",
    "    y.append(row.TVD)\n",
    "    if current_facies != next_facies:\n",
    "        x.append(next_row.Depth)\n",
    "        y.append(next_row.TVD)\n",
    "        plt.plot(x,y,color=facies_colors[current_facies],linewidth=10)\n",
    "        x = []\n",
    "        y = []\n",
    "plt.xlim([3600, 6300])\n",
    "plt.ylim([3560, 3670])\n",
    "plt.gca().invert_yaxis()\n",
    "\n",
    "plt.plot(well1_df.Depth, well1_df.TVD, color='k',label='Well 1')\n",
    "#plt.title('Well 1')\n",
    "plt.xlabel('MD [m]', fontsize=24)\n",
    "plt.ylabel('TVD [m]', fontsize=24)\n",
    "plt.tick_params(labelsize=18)\n",
    "plt.show()\n",
    "\n",
    "# fig.savefig('images/Figure_6_Well_trajectory.png', dpi=300, bbox_inches='tight')\n",
    "# fig.savefig('images/Figure_6_Well_trajectory.tif', dpi=300, bbox_inches='tight')"
   ]
  },
  {
   "cell_type": "markdown",
   "metadata": {
    "deletable": true,
    "editable": true
   },
   "source": [
    "This tutorial has demonstrated how dimensionality reduction and unsupervised machine learning can be used to understand and analyze XRF measurements of cuttings to determine geochemical facies. Exploratory factor analysis yields insight into the underlying rock properties that are changing across the reservoir. K-means clustering is used to organize similar samples into a smaller number of groups that can be interpreted as geochemical facies. This can be used to correlate formation tops between wells and provide data necessary for geosteering.\n",
    "\n",
    "The code shown in this article demonstrates how to perform most of this analysis using Python and some standard data science and machine learning toolboxes. For the full code used to generate these results and visualizations, please see the GitHub repo at  [www.github.com/brendonhall/clustering_tutorial](https://www.github.com/brendonhall/clustering_tutorial)."
   ]
  },
  {
   "cell_type": "markdown",
   "metadata": {
    "deletable": true,
    "editable": true
   },
   "source": [
    "## References\n",
    "\n",
    "Carr, R., Yarbrough, L., Lentz, N., Neset, K., Lucero, B. and Kirst, T. (2014) *On-Site XRF Analysis of Drill Cuttings in the Williston Basin*. URTeC Denver, Colorado, USA. doi:[10.15530/urtec-2014-1934308](https://www.crossref.org/iPage?doi=10.15530%2Furtec-2014-1934308)\n",
    "\n",
    "Calvert, S. and Pedersen, T. (2007). *Elemental proxies for paleoclimatic and palaeoceanographic variability in marine sediments: interpretation and application*. Developments in Marine Geology. 1. 568-644.\n",
    "\n",
    "Croudace, I. W., and R. G. Rothwell. *Micro-XRF Studies of Sediment Cores*. Springer, 2015.\n",
    "\n",
    "Davis, J. C. *Statistical and Data Analysis in Geology*. J. Wiley, 1986.\n",
    "\n",
    "Hauck, T. (2014) scikit-learn Cookbook. Packt Publishing, Birmigham, UK.\n",
    "\n",
    "Hamerly, G. and Elkan, C. (2003) Learning the k in k-means. Advances in Neural Information Processing Systems 16, edited by Thrun, S., Saul, L. K. and Schölkopf, B. MIT Press, 281-288.\n",
    "\n",
    "Iwamori, H., Yoshida, K., Nakamura, H. Kuwatani, T., Hamada, M., Haraguchi, S. and Ueki, K. (2017) *Classification of geochemical data based on multivariate statistical analyses: Complementary roles of cluster, principal component, and independent component analyses*. Geochemisty, Geophysics, Geosystems. 18(3).  994–1012. doi:[10.1002/2016GC006663](http://onlinelibrary.wiley.com/doi/10.1002/2016GC006663/abstract)\n",
    "\n",
    "Pedregosa, F., Varoquaux, G., Gramfort, A., Michel, V., Thirion, B., Grisel, O., Blondel, M, Prettenhofer, P., Weiss, R., Dubourg, V., Vanderplas, J., Passos, A., Cournapeau, D., Brucher, M., Perrot, M. and Duchesnay, É. (2011). Scikit­learn: Machine Learning in Python, Journal of Machine Learning Research, 12, 2825-­2830.\n",
    "\n",
    "Preacher K.J., Zhang G., Kim C. and Mels G. (2013) *Choosing the Optimal Number of Factors in Exploratory Factor Analysis: A Model Selection Perspective*. Multivariate Behav Res. 48(1).\n",
    "\n",
    "Rietveld, T. and Van Hout, R. (1993). Statistical Techniques for the Study of Language and Language Behaviour. Berlin – New York: Mouton de Gruyter.\n",
    "\n",
    "Waskom, M., et al. (2017) Seaborn, statistical data visualization library. v0.8.1 doi: [10.5281/zenodo.883859](https://doi.org/10.5281/zenodo.883859)\n"
   ]
  }
 ],
 "metadata": {
  "kernelspec": {
   "display_name": "Python 3 (ipykernel)",
   "language": "python",
   "name": "python3"
  },
  "language_info": {
   "codemirror_mode": {
    "name": "ipython",
    "version": 3
   },
   "file_extension": ".py",
   "mimetype": "text/x-python",
   "name": "python",
   "nbconvert_exporter": "python",
   "pygments_lexer": "ipython3",
   "version": "3.9.5"
  }
 },
 "nbformat": 4,
 "nbformat_minor": 4
}
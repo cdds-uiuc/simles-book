{
 "cells": [
  {
   "cell_type": "markdown",
   "metadata": {},
   "source": [
    "# Discrete Random Variables"
   ]
  },
  {
   "cell_type": "code",
   "execution_count": 1,
   "metadata": {
    "tags": []
   },
   "outputs": [],
   "source": [
    "#%reset\n",
    "import numpy as np\n",
    "import matplotlib.pyplot as plt\n",
    "figsize=[6,3]\n",
    "\n",
    "# These are some parameters to make figures nice (and big)\n",
    "params = {'legend.fontsize': 'x-large',\n",
    "         'axes.labelsize': 'x-large',\n",
    "         'axes.titlesize':'x-large',\n",
    "         'xtick.labelsize':'x-large',\n",
    "         'ytick.labelsize':'x-large'}\n",
    "\n",
    "plt.rcParams.update(params)"
   ]
  },
  {
   "cell_type": "markdown",
   "metadata": {},
   "source": [
    "\n",
    "https://en.wikipedia.org/wiki/Random_variable\n",
    "\n",
    "###  From random process to random variables\n",
    "\n",
    "Consider the random process of throwing a six-sided fair die,\n",
    "$\\Omega$={<span>&#9856;,&#9857;,&#9858;,&#9859;,&#9860;,&#9861;</span>}\n",
    "\n",
    "\n",
    "**Definition**: Random variable\n",
    "For our purspose we can define a (univariate) random variable $X$ is a function that defined on the sample space of a random process that associates a real number for every event in the event space of the sample space.\n",
    "\n",
    "$$ X:\\Omega \\rightarrow \\mathbb{R}$$\n",
    "\n",
    "We will denote by capital $X$ the random variable, i.e., the function from $\\mathcal S$ to $\\mathbb R$,  and by small cap $x$, the value the random variable $X$ takes in the real numbers.\n",
    "\n",
    "Examples of random variables: the result of rolling a dice. The total amount of rainfall falling in a day. The duration of rainfall falling in a day. The magnitude of an Earthquake. "
   ]
  },
  {
   "cell_type": "markdown",
   "metadata": {},
   "source": [
    "\n",
    "## Examples of discrete random variables\n",
    "### Uniform discrete random variable\n",
    "\n",
    "\n",
    "The simples example of a random variable is that of a uniform discrete random variable. For example, consider the random variable $X$ that is associated with the value on the face of a die. This random variable takes discrete values between 1 and 6. \n",
    "\n",
    "**Simulation** \n",
    "\n",
    "We can simulate this random variable using the <code>stats.randint.rvs</code> method from the <code>scipy</code> library. \n",
    "\n",
    "However, remember that python interprets intervals as closed on the left(lower bound) \n",
    "and open on the right (upper bound). If you specify a bound in python using $a$ and $b$, Python itnerprets it as $[a,b)$. So to specify the discrete itnerval $[1,6]$ we actually have to specify it as $[1,7)$. This is sometimes called left-inclusive right-exclusive, because the value on the left (lower bound) is included, whereas the value on the right (upper bound) is excluded. \n",
    "\n",
    "The <code>stats</code> class has a method to generate randint objects that deal with uniform discrete (integer-valued) random variables. \n",
    "https://docs.scipy.org/doc/scipy/reference/tutorial/stats/discrete_randint.html\n",
    "https://docs.scipy.org/doc/scipy/reference/reference/generated/scipy.stats.randint.html#scipy.stats.randint <br>\n",
    "The bottom of the above documentation page for <code>randint</code> describes the methods. The randint object has method <code>rvs</code> to generate such a random variable\n",
    "\n"
   ]
  },
  {
   "cell_type": "code",
   "execution_count": 26,
   "metadata": {},
   "outputs": [
    {
     "name": "stdout",
     "output_type": "stream",
     "text": [
      "[2]\n"
     ]
    }
   ],
   "source": [
    "# let's import the stats module from the scipy library\n",
    "from scipy import stats\n",
    "\n",
    "#Simulate random variable taking values between 1 (inclusive) and 7 (exclusive). \n",
    "#Let's say we only want to simulate this random variable once\n",
    "# Rerun this cell several times to simulate a throw of the dice\n",
    "X=stats.randint.rvs(low=1, high=7, size=1)\n",
    "print(X)"
   ]
  },
  {
   "cell_type": "markdown",
   "metadata": {},
   "source": [
    "### Bernoulli Random Variable\n",
    "A Bernoulli random variable is a variable that can only take values of $1$ or $0$. It takes a value of $1$ with probability $p$ and $0$ with probability $1-p$\n",
    "\n",
    "We can simulate a random variable using the fair die. For example, we can define a Bernoulli random variable $Y$ which takes value $1$ if the roll is larger than 3, and $0$ otherwise. In this case, the Bernoulli random variable has $p=0.5$."
   ]
  },
  {
   "cell_type": "code",
   "execution_count": 27,
   "metadata": {},
   "outputs": [
    {
     "name": "stdout",
     "output_type": "stream",
     "text": [
      "1\n"
     ]
    }
   ],
   "source": [
    "# rerun this cell to simulate more realizations of a bernoulli random variable\n",
    "X=stats.randint.rvs(low=1, high=7, size=1)\n",
    "if X>3: \n",
    "    Y=1\n",
    "else: \n",
    "    Y=0\n",
    "print(Y)"
   ]
  },
  {
   "cell_type": "markdown",
   "metadata": {},
   "source": [
    "Another way to generate a Bernoulli random variable with $p=1$ is by flipping a fair coin, and assigning $1$ for heads and $0$ for tails. \n",
    "\n",
    "We could generate a Bernoulli random variable with $p=1/3$ by defining it as taking value 1 if the die roll is larger than 4 (i.e. 5 or 6), and zero otherwise. \n",
    "\n",
    "In practice, we can generate realizations of a Bernoulli random variable with any $p$ using the same <code>stats</code> module from <code>scipy</code>. \n",
    "https://docs.scipy.org/doc/scipy/reference/generated/scipy.stats.bernoulli.html"
   ]
  },
  {
   "cell_type": "code",
   "execution_count": 28,
   "metadata": {},
   "outputs": [
    {
     "name": "stdout",
     "output_type": "stream",
     "text": [
      "[1]\n"
     ]
    }
   ],
   "source": [
    "# Rerun this cell to generate Bernoulli random variables with $p=0.5$\n",
    "X=stats.bernoulli.rvs(p=0.5, size=1)\n",
    "print(X)"
   ]
  },
  {
   "cell_type": "code",
   "execution_count": 29,
   "metadata": {},
   "outputs": [
    {
     "name": "stdout",
     "output_type": "stream",
     "text": [
      "[1 1 1 1 1 1 1 0 1 1 1 1 1 0 1 1 1 1 1 1 0 1 1 1 1 1 1 1 1 1 1 0 1 1 1 0 1\n",
      " 1 1 1 1 1 0 1 1 1 1 1 1 1]\n"
     ]
    }
   ],
   "source": [
    "# Rerun this cell to generate Bernoulli random variables with $p=0.9$\n",
    "X=stats.bernoulli.rvs(p=0.9, size=50)\n",
    "print(X)"
   ]
  },
  {
   "cell_type": "markdown",
   "metadata": {},
   "source": [
    "### Sum of two dice\n",
    "Let's take another example of a random variable. Consider rolling two fair dice\n",
    "\n",
    "![two_dice.png](M01_two_dice.png)\n",
    "\n",
    "And define a random variable $S$ whose value is the sum of the two dice rolls. \n",
    "\n",
    "![dice_sum](M01_dice_sum.png)\n",
    "\n",
    "We can generate realizations of this random variable by generating two (independent) dice and taking their sum\n"
   ]
  },
  {
   "cell_type": "code",
   "execution_count": 30,
   "metadata": {},
   "outputs": [
    {
     "name": "stdout",
     "output_type": "stream",
     "text": [
      "[9]\n"
     ]
    }
   ],
   "source": [
    "X=stats.randint.rvs(low=1, high=7, size=1)\n",
    "Y=stats.randint.rvs(low=1, high=7, size=1)\n",
    "S=X+Y\n",
    "print(S)"
   ]
  },
  {
   "cell_type": "markdown",
   "metadata": {},
   "source": [
    "<hr style=\"border:1px solid black\"> </hr>"
   ]
  },
  {
   "cell_type": "markdown",
   "metadata": {},
   "source": [
    "## Distributions of discrete random variable"
   ]
  },
  {
   "cell_type": "markdown",
   "metadata": {},
   "source": [
    "### Probability mass functions\n",
    "How do we describe the possible outcome of a random variable? Random variables can be described - and are actually defined - by their distribution functions. Instead of a \"bernoulli random variable\" we will usually say a \"Bernoulli-distributed random variable\". \n",
    "\n",
    "\n",
    "For discrete random variables these distributions functions are called **probability mass functions (pmf)**. the pmf of a random variable $X$ is: \n",
    "\n",
    "$$p(x_i)=P(X=x_i),$$ \n",
    "\n",
    "sometimes denoted as \n",
    "\n",
    "$$p_X(x_i).$$\n",
    "\n",
    "For the uniform discrete random variable associated with a roll of the dice the distribution function is pretty straight-forward. It takes value of 1/6 if $x_i\\in\\{1,2,3,4,5,6\\}$ and zero otherwise. The Bernoulli random variable with parameter p has a similarly straightforward pmf, which takes value of $p$ for $x_i$=1, and $1-p$ for $x_i=0$. \n",
    "\n",
    "The table above also allows us to easily compute the pmf for the sum of two fair dice. The pmf only takes non-zero values for $x_i\\in\\{1,\\ldots,12\\}$. For example $p(5)$ is the probability of rolling a total of 5, and it can be read from the table as $p(5)=4/36=1/9$"
   ]
  },
  {
   "cell_type": "markdown",
   "metadata": {},
   "source": [
    "Let's visualize the pmfs for the three random variables described. The random variable objects <cin <code>scipy.stats</code> have the pmf as a method\n",
    "\n",
    "**Uniformly distributed random variable (Sincle dice)**\n"
   ]
  },
  {
   "cell_type": "code",
   "execution_count": 31,
   "metadata": {
    "tags": [
     "hide-input"
    ]
   },
   "outputs": [
    {
     "data": {
      "image/png": "[encoded data removed]",
      "text/plain": [
       "<Figure size 432x216 with 1 Axes>"
      ]
     },
     "metadata": {
      "needs_background": "light"
     },
     "output_type": "display_data"
    }
   ],
   "source": [
    "#define an x-axis\n",
    "x=np.arange(0,8,1)\n",
    "\n",
    "#plot \n",
    "fig, ax = plt.subplots(1, 1,figsize=figsize)\n",
    "\n",
    "ax.plot(x, stats.randint.pmf(x,low=1,high=7), 'ro',ms=10,\n",
    "        label='pmf')\n",
    "ax.set_title('Discrete random variable uniformy distributed between 1 and 6')\n",
    "ax.legend(loc='best')\n",
    "plt.show()"
   ]
  },
  {
   "cell_type": "markdown",
   "metadata": {
    "jp-MarkdownHeadingCollapsed": true,
    "tags": []
   },
   "source": [
    "**Bernoulli Random variable** "
   ]
  },
  {
   "cell_type": "code",
   "execution_count": 1,
   "metadata": {
    "tags": [
     "hide-input"
    ]
   },
   "outputs": [
    {
     "ename": "NameError",
     "evalue": "name 'np' is not defined",
     "output_type": "error",
     "traceback": [
      "\u001b[0;31m---------------------------------------------------------------------------\u001b[0m",
      "\u001b[0;31mNameError\u001b[0m                                 Traceback (most recent call last)",
      "\u001b[0;32m<ipython-input-1-1e1d70f3b2ea>\u001b[0m in \u001b[0;36m<module>\u001b[0;34m\u001b[0m\n\u001b[1;32m      3\u001b[0m \u001b[0mp\u001b[0m\u001b[0;34m=\u001b[0m\u001b[0;36m0.5\u001b[0m\u001b[0;34m\u001b[0m\u001b[0;34m\u001b[0m\u001b[0m\n\u001b[1;32m      4\u001b[0m \u001b[0;31m#define an x-axis\u001b[0m\u001b[0;34m\u001b[0m\u001b[0;34m\u001b[0m\u001b[0;34m\u001b[0m\u001b[0m\n\u001b[0;32m----> 5\u001b[0;31m \u001b[0mx\u001b[0m\u001b[0;34m=\u001b[0m\u001b[0mnp\u001b[0m\u001b[0;34m.\u001b[0m\u001b[0marange\u001b[0m\u001b[0;34m(\u001b[0m\u001b[0;34m-\u001b[0m\u001b[0;36m2\u001b[0m\u001b[0;34m,\u001b[0m\u001b[0;36m5\u001b[0m\u001b[0;34m,\u001b[0m\u001b[0;36m1\u001b[0m\u001b[0;34m)\u001b[0m\u001b[0;34m\u001b[0m\u001b[0;34m\u001b[0m\u001b[0m\n\u001b[0m\u001b[1;32m      6\u001b[0m \u001b[0;34m\u001b[0m\u001b[0m\n\u001b[1;32m      7\u001b[0m \u001b[0;31m#plot\u001b[0m\u001b[0;34m\u001b[0m\u001b[0;34m\u001b[0m\u001b[0;34m\u001b[0m\u001b[0m\n",
      "\u001b[0;31mNameError\u001b[0m: name 'np' is not defined"
     ]
    }
   ],
   "source": [
    "#Bernoulli random variable with p=0.5\n",
    "\n",
    "p=0.5\n",
    "#define an x-axis\n",
    "x=np.arange(-2,5,1)\n",
    "\n",
    "#plot \n",
    "fig, ax = plt.subplots(1, 1,figsize=figsize)\n",
    "\n",
    "ax.plot(x, stats.bernoulli.pmf(x,p), 'ro',ms=10,\n",
    "        label='pmf')\n",
    "ax.set_title('Bernoulli with p=0.4')\n",
    "ax.legend(loc='best')\n",
    "plt.show()"
   ]
  },
  {
   "cell_type": "markdown",
   "metadata": {
    "tags": []
   },
   "source": [
    "**Sum of two dice**\n",
    "\n",
    "We don't have a ready-made method for generating a random variable with the same distribution as the sum of two random variables. But we can define and read the pmf from the table above"
   ]
  },
  {
   "cell_type": "code",
   "execution_count": 2,
   "metadata": {
    "tags": [
     "hide-input"
    ]
   },
   "outputs": [
    {
     "ename": "NameError",
     "evalue": "name 'np' is not defined",
     "output_type": "error",
     "traceback": [
      "\u001b[0;31m---------------------------------------------------------------------------\u001b[0m",
      "\u001b[0;31mNameError\u001b[0m                                 Traceback (most recent call last)",
      "\u001b[0;32m<ipython-input-2-bef10761eba6>\u001b[0m in \u001b[0;36m<module>\u001b[0;34m\u001b[0m\n\u001b[1;32m      1\u001b[0m \u001b[0;31m# define the pmf\u001b[0m\u001b[0;34m\u001b[0m\u001b[0;34m\u001b[0m\u001b[0;34m\u001b[0m\u001b[0m\n\u001b[1;32m      2\u001b[0m \u001b[0mx_2dice\u001b[0m\u001b[0;34m=\u001b[0m\u001b[0;34m[\u001b[0m\u001b[0;36m2\u001b[0m\u001b[0;34m,\u001b[0m\u001b[0;36m3\u001b[0m\u001b[0;34m,\u001b[0m\u001b[0;36m4\u001b[0m\u001b[0;34m,\u001b[0m\u001b[0;36m5\u001b[0m\u001b[0;34m,\u001b[0m\u001b[0;36m6\u001b[0m\u001b[0;34m,\u001b[0m\u001b[0;36m7\u001b[0m\u001b[0;34m,\u001b[0m\u001b[0;36m8\u001b[0m\u001b[0;34m,\u001b[0m\u001b[0;36m9\u001b[0m\u001b[0;34m,\u001b[0m\u001b[0;36m10\u001b[0m\u001b[0;34m,\u001b[0m\u001b[0;36m11\u001b[0m\u001b[0;34m,\u001b[0m\u001b[0;36m12\u001b[0m\u001b[0;34m]\u001b[0m\u001b[0;34m\u001b[0m\u001b[0;34m\u001b[0m\u001b[0m\n\u001b[0;32m----> 3\u001b[0;31m \u001b[0mp_2dice\u001b[0m\u001b[0;34m=\u001b[0m\u001b[0mnp\u001b[0m\u001b[0;34m.\u001b[0m\u001b[0masarray\u001b[0m\u001b[0;34m(\u001b[0m\u001b[0;34m[\u001b[0m\u001b[0;36m1\u001b[0m\u001b[0;34m,\u001b[0m\u001b[0;36m2\u001b[0m\u001b[0;34m,\u001b[0m\u001b[0;36m3\u001b[0m\u001b[0;34m,\u001b[0m\u001b[0;36m4\u001b[0m\u001b[0;34m,\u001b[0m\u001b[0;36m5\u001b[0m\u001b[0;34m,\u001b[0m\u001b[0;36m6\u001b[0m\u001b[0;34m,\u001b[0m\u001b[0;36m5\u001b[0m\u001b[0;34m,\u001b[0m\u001b[0;36m4\u001b[0m\u001b[0;34m,\u001b[0m\u001b[0;36m3\u001b[0m\u001b[0;34m,\u001b[0m\u001b[0;36m2\u001b[0m\u001b[0;34m,\u001b[0m\u001b[0;36m1\u001b[0m\u001b[0;34m]\u001b[0m\u001b[0;34m)\u001b[0m\u001b[0;34m/\u001b[0m\u001b[0;36m36\u001b[0m\u001b[0;34m\u001b[0m\u001b[0;34m\u001b[0m\u001b[0m\n\u001b[0m\u001b[1;32m      4\u001b[0m \u001b[0;34m\u001b[0m\u001b[0m\n\u001b[1;32m      5\u001b[0m \u001b[0;31m#notice we need to make the pmf p_2dice as numpy array.\u001b[0m\u001b[0;34m\u001b[0m\u001b[0;34m\u001b[0m\u001b[0;34m\u001b[0m\u001b[0m\n",
      "\u001b[0;31mNameError\u001b[0m: name 'np' is not defined"
     ]
    }
   ],
   "source": [
    "# define the pmf\n",
    "x_2dice=[2,3,4,5,6,7,8,9,10,11,12]\n",
    "p_2dice=np.asarray([1,2,3,4,5,6,5,4,3,2,1])/36\n",
    "\n",
    "#notice we need to make the pmf p_2dice as numpy array.\n",
    "\n",
    "fig, ax = plt.subplots(1, 1,figsize=figsize)\n",
    "\n",
    "ax.plot(x_2dice, p_2dice, 'ro',ms=10,\n",
    "        label='pmf')\n",
    "ax.set_title('Discrete random variable uniformy distributed between 1 and 6')\n",
    "ax.legend(loc='best');\n"
   ]
  },
  {
   "cell_type": "markdown",
   "metadata": {},
   "source": [
    "### Realization/Draw\n",
    "We would call the value of the random variable associated with a throw of the dice a **realization** or **draw** of the random process and of the random variable. \n",
    "The cell above generates a single realizatoin of the random variable. But we can generate multiple realizatoins at once and save them in an array\n",
    "\n"
   ]
  },
  {
   "cell_type": "code",
   "execution_count": 34,
   "metadata": {},
   "outputs": [
    {
     "name": "stdout",
     "output_type": "stream",
     "text": [
      "[5 1 6 2 2 1 1 5 6 3 2 1 1 4 4 1 5 4 5 5]\n"
     ]
    }
   ],
   "source": [
    "#Rerun this cell several times to simulate 20 realizations \n",
    "#of a Uniform Discrete Random Variable  (i.e. 20 throws of the die)\n",
    "X=stats.randint.rvs(low=1, high=7, size=20)\n",
    "print(X)"
   ]
  },
  {
   "cell_type": "markdown",
   "metadata": {
    "tags": []
   },
   "source": [
    "### Histograms\n",
    "\n",
    "<b>Definition</b>: A histogram is an *approximate* representation of the distribution of a random variable, done through computing the frequency of observations occuring in certain ranges of values.\n",
    "\n",
    "To compute a histogram we have to draw realizations of a ranodm variable, define a set of bins, and count the number of realizations within each bin. Let's do that for the three random variables discussed, and compare it with the pmf\n",
    "\n",
    "Note ther are several ways to compute a histogram: Using <a href=\"https://numpy.org/doc/stable/reference/generated/numpy.histogram.html\">numpy.histrogram</a>,<a href=\"https://docs.scipy.org/doc/scipy-0.14.0/reference/generated/scipy.stats.histogram.html\">scipy.histogram</a>, or <a href=\"https://matplotlib.org/stable/api/_as_gen/matplotlib.pyplot.hist.html\">matplotlib.pyplot.hist</a>."
   ]
  },
  {
   "cell_type": "markdown",
   "metadata": {
    "tags": []
   },
   "source": [
    "**Discrete uniform RV (one die)**"
   ]
  },
  {
   "cell_type": "code",
   "execution_count": 35,
   "metadata": {
    "tags": []
   },
   "outputs": [
    {
     "name": "stdout",
     "output_type": "stream",
     "text": [
      "[1 1 1 4 6 5 5 1 6 3 1 3 6 5 6 4 1 5 4 4 6 1 2 6 5 5 1 3 1 1 4 6 4 1 3 4 1\n",
      " 1 6 6 2 1 3 6 3 6 6 1 1 1 6 6 5 2 3 1 1 6 1 5 6 3 3 5 2 3 6 2 2 3 1 3 3 6\n",
      " 5 1 5 5 3 1 5 2 1 6 6 2 4 4 4 6 4 3 1 6 1 6 1 6 3 1]\n"
     ]
    }
   ],
   "source": [
    "Ndraws=100\n",
    "\n",
    "# PMF\n",
    "x_uniform=np.arange(0,8,1)\n",
    "p_uniform=stats.randint.pmf(x_uniform,low=1,high=7)\n",
    "\n",
    "# generate random variables and define edges \n",
    "# (note we want the integers to be in the bins, not at the edges)\n",
    "X_uniform=stats.randint.rvs(low=1, high=7, size=Ndraws)\n",
    "bin_edges_uniform=np.arange(0.5,8.5,1)\n",
    "\n",
    "print(X_uniform)\n"
   ]
  },
  {
   "cell_type": "code",
   "execution_count": 36,
   "metadata": {
    "tags": [
     "hide-input"
    ]
   },
   "outputs": [
    {
     "data": {
      "image/png": "[encoded data removed]",
      "text/plain": [
       "<Figure size 432x216 with 1 Axes>"
      ]
     },
     "metadata": {
      "needs_background": "light"
     },
     "output_type": "display_data"
    }
   ],
   "source": [
    "fig, ax = plt.subplots(1, 1,figsize=figsize)\n",
    "\n",
    "\n",
    "ax.hist(X_uniform,bins=bin_edges_uniform,density=True,rwidth=0.9,label='histrogram')\n",
    "ax.plot(x_uniform,p_uniform , 'ro',ms=10,\n",
    "        label='pmf');\n",
    "ax.legend();\n",
    "ax.set_xlim(left=-0.5, right=7.5);"
   ]
  },
  {
   "cell_type": "markdown",
   "metadata": {},
   "source": [
    "**Bernoulli**"
   ]
  },
  {
   "cell_type": "code",
   "execution_count": 37,
   "metadata": {
    "tags": [
     "hide-input"
    ]
   },
   "outputs": [
    {
     "data": {
      "image/png": "[encoded data removed]",
      "text/plain": [
       "<Figure size 432x216 with 1 Axes>"
      ]
     },
     "metadata": {
      "needs_background": "light"
     },
     "output_type": "display_data"
    }
   ],
   "source": [
    "N_draws=10;\n",
    "p_bern=0.5;\n",
    "\n",
    "#PMF\n",
    "x_bernoulli=np.arange(-1,3,1)\n",
    "p_bernoulli=stats.bernoulli.pmf(x_bernoulli,p=p_bern)\n",
    "\n",
    "# generate random variables and define edges \n",
    "#(note we want the integers to be in the bins, not at the edges)\n",
    "X_bernoulli=stats.bernoulli.rvs(p=p_bern, size=N_draws)\n",
    "bin_edges_bernoulli=np.arange(-1.5,3.5,1)\n",
    "\n",
    "\n",
    "#Plot\n",
    "fig, ax = plt.subplots(1, 1,figsize=figsize)\n",
    "ax.hist(X_bernoulli,bins=bin_edges_bernoulli,density=True,rwidth=0.9)\n",
    "ax.plot(x_bernoulli, p_bernoulli, 'ro',ms=10,\n",
    "        label='pmf');"
   ]
  },
  {
   "cell_type": "code",
   "execution_count": 38,
   "metadata": {
    "tags": [
     "hide-input"
    ]
   },
   "outputs": [
    {
     "data": {
      "image/png": "[encoded data removed]",
      "text/plain": [
       "<Figure size 432x216 with 1 Axes>"
      ]
     },
     "metadata": {
      "needs_background": "light"
     },
     "output_type": "display_data"
    }
   ],
   "source": [
    "Ndraws=100\n",
    "\n",
    "# PMF\n",
    "x_2dice=[2,3,4,5,6,7,8,9,10,11,12]\n",
    "p_2dice=np.asarray([1,2,3,4,5,6,5,4,3,2,1])/36\n",
    "\n",
    "# generate random variables and define edges \n",
    "# (note we want the integers to be in the bins, not at the edges)\n",
    "X_1die=stats.randint.rvs(low=1, high=7, size=Ndraws)\n",
    "Y_1die=stats.randint.rvs(low=1, high=7, size=Ndraws)\n",
    "Z_2dice=X_1die+Y_1die\n",
    "\n",
    "bin_edges_2dice=np.arange(1.5,13.5,1)\n",
    "\n",
    "\n",
    "fig, ax = plt.subplots(1, 1,figsize=figsize)\n",
    "\n",
    "ax.hist(Z_2dice,bins=bin_edges_2dice,density=True,rwidth=0.9)\n",
    "ax.plot(x_2dice, p_2dice, 'ro',ms=10,\n",
    "        label='pmf');"
   ]
  },
  {
   "cell_type": "markdown",
   "metadata": {},
   "source": [
    "```{Danger}\n",
    "For *discrete* random variables the histogram can give weird results if the bins are not set appropriately (for example if they are of unequal weidth)\n",
    "```\n"
   ]
  },
  {
   "cell_type": "code",
   "execution_count": 39,
   "metadata": {
    "tags": [
     "hide-input"
    ]
   },
   "outputs": [
    {
     "data": {
      "image/png": "[encoded data removed]",
      "text/plain": [
       "<Figure size 432x216 with 1 Axes>"
      ]
     },
     "metadata": {
      "needs_background": "light"
     },
     "output_type": "display_data"
    }
   ],
   "source": [
    "Ndraws=400\n",
    "\n",
    "# PMF\n",
    "x_uniform=np.arange(0,8,1)\n",
    "p_uniform=stats.randint.pmf(x_uniform,low=1,high=7)\n",
    "\n",
    "# generate random variables and define edges \n",
    "# (note we want the integers to be in the bins, not at the edges)\n",
    "X_uniform=stats.randint.rvs(low=1, high=7, size=Ndraws)\n",
    "\n",
    "#compare teh two below:\n",
    "#bin_edges_uniform=np.asarray([0.5, 1.5, 2.5, 3.5, 4.5, 5.5, 6.5])\n",
    "bin_edges_uniform=np.asarray([0.5, 1.5, 2.5, 3.1, 4.9, 5.5, 6.5])\n",
    "\n",
    "\n",
    "fig, ax = plt.subplots(1, 1,figsize=figsize)\n",
    "\n",
    "\n",
    "ax.hist(X_uniform,bins=bin_edges_uniform,density=True,rwidth=0.9)\n",
    "ax.plot(x_uniform,p_uniform , 'ro',ms=10,\n",
    "        label='pmf');"
   ]
  },
  {
   "cell_type": "markdown",
   "metadata": {},
   "source": [
    "### Convergence of histograms to pmfs\n",
    "\n",
    "As the number of draws, or realizations of the random variables increases, the histogram becomes a better and better approximation for the pmf.\n",
    "\n",
    "$$h_N(x_i)\\rightarrow p(x_i)$$"
   ]
  },
  {
   "cell_type": "code",
   "execution_count": 40,
   "metadata": {
    "tags": [
     "hide-input"
    ]
   },
   "outputs": [
    {
     "data": {
      "image/png": "[encoded data removed]",
      "text/plain": [
       "<Figure size 432x216 with 1 Axes>"
      ]
     },
     "metadata": {
      "needs_background": "light"
     },
     "output_type": "display_data"
    }
   ],
   "source": [
    "# change the number of draws for the 2 dice case\n",
    "Ndraws=100000\n",
    "\n",
    "# PMF\n",
    "x_2dice=[2,3,4,5,6,7,8,9,10,11,12]\n",
    "p_2dice=np.asarray([1,2,3,4,5,6,5,4,3,2,1])/36\n",
    "\n",
    "# generate random variables and define edges \n",
    "# (note we want the integers to be in the bins, not at the edges)\n",
    "X_1die=stats.randint.rvs(low=1, high=7, size=Ndraws)\n",
    "Y_1die=stats.randint.rvs(low=1, high=7, size=Ndraws)\n",
    "Z_2dice=X_1die+Y_1die\n",
    "\n",
    "bin_edges_2dice=np.arange(1.5,13.5,1)\n",
    "\n",
    "\n",
    "fig, ax = plt.subplots(1, 1,figsize=figsize)\n",
    "\n",
    "ax.hist(Z_2dice,bins=bin_edges_2dice,density=True,rwidth=0.9)\n",
    "ax.plot(x_2dice, p_2dice, 'ro',ms=10,\n",
    "        label='pmf');"
   ]
  }
 ],
 "metadata": {
  "kernelspec": {
   "display_name": "Python 3 (ipykernel)",
   "language": "python",
   "name": "python3"
  },
  "language_info": {
   "codemirror_mode": {
    "name": "ipython",
    "version": 3
   },
   "file_extension": ".py",
   "mimetype": "text/x-python",
   "name": "python",
   "nbconvert_exporter": "python",
   "pygments_lexer": "ipython3",
   "version": "3.9.9"
  }
 },
 "nbformat": 4,
 "nbformat_minor": 4
}
